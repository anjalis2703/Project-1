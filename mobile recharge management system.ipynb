{
 "cells": [
  {
   "cell_type": "code",
   "execution_count": 6,
   "id": "4ddd6ede",
   "metadata": {
    "scrolled": true
   },
   "outputs": [
    {
     "name": "stdout",
     "output_type": "stream",
     "text": [
      "{'AP': 'Andhra Pradesh & Telangana', 'AS': 'Assam', 'BR': 'Bihar & Jharkhand', 'DL': 'Delhi', 'GJ': 'Gujrat', 'HP': 'Himachal Pradesh', 'HR': 'Haryana', 'JK': 'Jammu and Kashmir', 'KL': 'Kerela and Lakshadweep', 'KA': 'Karnataka', 'KO': 'Kolkata', 'MH': 'Maharashtra and Goa', 'MP': 'Madhya Pradesh and Chhattisgarh', 'MU': 'Mumbai', 'NE': 'North East', 'OR': 'Orissa', 'PB': 'Punjab', 'RJ': 'Rajasthan', 'TN': 'Tamil Nadu', 'UE': 'UP (East)', 'UW': 'UP (West)', 'WB': 'West Bengal', 'GB': 'Ghaziabad and Noida'}\n"
     ]
    }
   ],
   "source": [
    "Circles = {\n",
    "\"AP\":\"Andhra Pradesh & Telangana\",\n",
    "\"AS\":\"Assam\",\n",
    "\"BR\":\"Bihar & Jharkhand\",\n",
    "\"DL\":\"Delhi\",\n",
    "\"GJ\":\"Gujrat\",\n",
    "\"HP\":\"Himachal Pradesh\",\n",
    "\"HR\":\"Haryana\",\n",
    "\"JK\":\"Jammu and Kashmir\",\n",
    "\"KL\":\"Kerela and Lakshadweep\",\n",
    "\"KA\":\"Karnataka\",\n",
    "\"KO\":\"Kolkata\",\n",
    "\"MH\":\"Maharashtra and Goa\",\n",
    "\"MP\":\"Madhya Pradesh and Chhattisgarh\",\n",
    "\"MU\":\"Mumbai\",\n",
    "\"NE\":\"North East\",\n",
    "\"OR\":\"Orissa\",\n",
    "\"PB\":\"Punjab\",\n",
    "\"RJ\":\"Rajasthan\",\n",
    "\"TN\":\"Tamil Nadu\",\n",
    "\"UE\":\"UP (East)\",\n",
    "\"UW\":\"UP (West)\",\n",
    "\"WB\":\"West Bengal\",\n",
    "\"GB\":\"Ghaziabad and Noida\"\n",
    "}\n",
    "print(Circles)"
   ]
  },
  {
   "cell_type": "code",
   "execution_count": 3,
   "id": "3ad001d7",
   "metadata": {
    "scrolled": true
   },
   "outputs": [
    {
     "name": "stdout",
     "output_type": "stream",
     "text": [
      "{'AP': 'Andhra Pradesh & Telangana', 'AS': 'Assam', 'BR': 'Bihar & Jharkhand', 'DL': 'Delhi', 'GJ': 'Gujrat', 'HP': 'Himachal Pradesh', 'HR': 'Haryana', 'JK': 'Jammu and Kashmir', 'KL': 'Kerela and Lakshadweep', 'KA': 'Karnataka', 'KO': 'Kolkata', 'MH': 'Maharashtra and Goa', 'MP': 'Madhya Pradesh and Chhattisgarh', 'MU': 'Mumbai', 'NE': 'North East', 'OR': 'Orissa', 'PB': 'Punjab', 'RJ': 'Rajasthan', 'TN': 'Tamil Nadu', 'UE': 'UP (East)', 'UW': 'UP (West)', 'WB': 'West Bengal', 'GB': 'Ghaziabad and Noida'}\n",
      "Enter circle id from the above list:mh\n"
     ]
    }
   ],
   "source": [
    "print(Circles)\n",
    "circle = input(\"Enter circle id from the above list:\")"
   ]
  },
  {
   "cell_type": "code",
   "execution_count": 7,
   "id": "2bcd1e79",
   "metadata": {
    "scrolled": true
   },
   "outputs": [
    {
     "name": "stdout",
     "output_type": "stream",
     "text": [
      "{'Rs.1200': ' 240 GB data Val= 240 days', 'Rs.600': '72 GB data Val= 70 days', 'Rs.250': '50 GB data Val= 28 days', 'Rs.100': '12 GB data Val= 28 days', 'Rs.50': '6 GB data Val= 28'}\n",
      "{'Rs.250': 'Unlimited calls(local/national) + 1.5GB data/day + 100 SMS/ day. Val = 28 days', 'Rs.400': 'Unlimited calls(local/national) + 3 GB data/day + 100 SMS/ day. Val = 28 days', 'Rs.450': 'Unlimited calls(local/national) + 1.5GB data/day + 100 SMS/ day. Val = 56 days', 'Rs.500': 'Unlimited calls(local/national) + 1.5GB data/day + 100 SMS/ day. Val = 70 days', 'Rs.550': 'Unlimited calls(local/national) + 1.5GB data/day + 100 SMS/ day. Val = 77days'}\n",
      "{'Rs.100': 'Talktime: Rs. 82  Val = 28 days', 'Rs.50': 'Talktime: Rs. 39  Val = 28 days', 'Rs.30': 'Talktime: Rs. 22  Val = 28 days', 'Rs.20': 'Talktime: Rs. 14  Val = 28 days', 'Rs.10': 'Talktime: Rs. 7  Val = 28 days'}\n"
     ]
    }
   ],
   "source": [
    "#recharge packages\n",
    "Full_Recharge = {\n",
    "\n",
    "\"Rs.250\":\"Unlimited calls(local/national) + 1.5GB data/day + 100 SMS/ day. Val = 28 days\",\n",
    "\"Rs.400\":\"Unlimited calls(local/national) + 3 GB data/day + 100 SMS/ day. Val = 28 days\",\n",
    "\"Rs.450\":\"Unlimited calls(local/national) + 1.5GB data/day + 100 SMS/ day. Val = 56 days\",\n",
    "\"Rs.500\":\"Unlimited calls(local/national) + 1.5GB data/day + 100 SMS/ day. Val = 70 days\",\n",
    "\"Rs.550\":\"Unlimited calls(local/national) + 1.5GB data/day + 100 SMS/ day. Val = 77days\"\n",
    "}\n",
    "\n",
    "Talktime_only = {\n",
    "\n",
    "\"Rs.100\":\"Talktime: Rs. 82  Val = 28 days\",\n",
    "\"Rs.50\":\"Talktime: Rs. 39  Val = 28 days\",\n",
    "\"Rs.30\":\"Talktime: Rs. 22  Val = 28 days\",\n",
    "\"Rs.20\":\"Talktime: Rs. 14  Val = 28 days\",\n",
    "\"Rs.10\":\"Talktime: Rs. 7  Val = 28 days\"\n",
    "}\n",
    "\n",
    "Data_Packs={\n",
    "\n",
    "\"Rs.1200\":\" 240 GB data Val= 240 days\",\n",
    "\"Rs.600\": \"72 GB data Val= 70 days\",\n",
    "\"Rs.250\": \"50 GB data Val= 28 days\",\n",
    "\"Rs.100\": \"12 GB data Val= 28 days\",\n",
    "\"Rs.50\":\"6 GB data Val= 28\"\n",
    "}\n",
    "print(Data_Packs)\n",
    "print(Full_Recharge)\n",
    "print(Talktime_only)\n",
    "\n"
   ]
  },
  {
   "cell_type": "code",
   "execution_count": 4,
   "id": "eba94aa3",
   "metadata": {
    "scrolled": false
   },
   "outputs": [
    {
     "name": "stdout",
     "output_type": "stream",
     "text": [
      "please enter your name:anjali\n",
      "enter your phone number:99\n"
     ]
    }
   ],
   "source": [
    "name = input(\"please enter your name:\")\n",
    "phone_no= input(\"enter your phone number:\")"
   ]
  },
  {
   "cell_type": "code",
   "execution_count": 8,
   "id": "769b1bd5",
   "metadata": {
    "scrolled": false
   },
   "outputs": [
    {
     "name": "stdout",
     "output_type": "stream",
     "text": [
      "select your recharge type: Prepaid or Postpaid: prepaid\n"
     ]
    }
   ],
   "source": [
    "Recharged_type = input(\"select your recharge type: Prepaid or Postpaid: \")"
   ]
  },
  {
   "cell_type": "code",
   "execution_count": 10,
   "id": "778e018c",
   "metadata": {
    "scrolled": false
   },
   "outputs": [
    {
     "name": "stdout",
     "output_type": "stream",
     "text": [
      "please enter your name:anjali\n",
      "enter your phone number:9876543219\n",
      "{'AP': 'Andhra Pradesh & Telangana', 'AS': 'Assam', 'BR': 'Bihar & Jharkhand', 'DL': 'Delhi', 'GJ': 'Gujrat', 'HP': 'Himachal Pradesh', 'HR': 'Haryana', 'JK': 'Jammu and Kashmir', 'KL': 'Kerela and Lakshadweep', 'KA': 'Karnataka', 'KO': 'Kolkata', 'MH': 'Maharashtra and Goa', 'MP': 'Madhya Pradesh and Chhattisgarh', 'MU': 'Mumbai', 'NE': 'North East', 'OR': 'Orissa', 'PB': 'Punjab', 'RJ': 'Rajasthan', 'TN': 'Tamil Nadu', 'UE': 'UP (East)', 'UW': 'UP (West)', 'WB': 'West Bengal', 'GB': 'Ghaziabad and Noida'}\n",
      "Enter circle id from the above list:MH\n",
      "select your recharge type: Prepaid or Postpaid: postpaid\n",
      "please enter your bill amount:500\n",
      "your final bill is 590.0\n",
      "select your payment method:credit card, Debit card, UPI, net banking or CASH: cash\n"
     ]
    }
   ],
   "source": [
    "name = input(\"please enter your name:\")\n",
    "phone_no= input(\"enter your phone number:\")\n",
    "print(Circles)\n",
    "circle = input(\"Enter circle id from the above list:\")\n",
    "type_of_recharge = input(\"select your recharge type: Prepaid or Postpaid: \")\n",
    "total_bill = 0\n",
    "\n",
    "if type_of_recharge== \"Prepaid\":\n",
    "    recharge_pack = input(\"choose recharge pack:Full recharge,Talktime only or data pack: \")\n",
    "    if \"Full_recharge\":\n",
    "        print(Full_Recharge)\n",
    "        full_recharge = input(\"select required packages for the available pack, only given in the above table:\")\n",
    "        ful_recharge = int(full_recharge)\n",
    "        gst= ful_recharge*(18/100)\n",
    "        total_bill = ful_recharge + gst\n",
    "        print(f\"your final bill is {total_bill}\")\n",
    "    elif \"Talktime_only\":\n",
    "        print(Talktime_only)\n",
    "        talktime_only = input(\"select required packages for the available pack, only given in the above table:\")\n",
    "        talktime = int(talktime_only)\n",
    "        gst= talktime*(18/100)\n",
    "        total_bill = talktime + gst\n",
    "        print(f\"your final bill is {total_bill}\")\n",
    "    else:\n",
    "        print(Data_Packs)\n",
    "        data_packs = input(\"select required packages for the available pack, only given in the above table:\")\n",
    "        data = int(data_packs)\n",
    "        gst= data*(18/100)\n",
    "        total_bill = data + gst\n",
    "        print(f\"your final bill is {total_bill}\")\n",
    "else:    \n",
    "    bill_amount = input(\"please enter your bill amount:\")\n",
    "    bil_amount = int(bill_amount)\n",
    "    gst = bil_amount*(18/100)\n",
    "    total_bill = bil_amount + gst\n",
    "    print(f\"your final bill is {total_bill}\")\n",
    "payment_method = input(\"select your payment method:credit card, Debit card, UPI, net banking or CASH: \")"
   ]
  },
  {
   "cell_type": "code",
   "execution_count": 12,
   "id": "6dfbb11f",
   "metadata": {},
   "outputs": [
    {
     "name": "stdout",
     "output_type": "stream",
     "text": [
      "your name is anjali\n",
      " your phone no is 9876543219\n",
      " your type of recharge is postpaid\n",
      " your total bill is 590.0\n",
      " your payment method is cash\n"
     ]
    }
   ],
   "source": [
    "# generated receipt:\n",
    "print(f\"your name is {name}\")\n",
    "print(f\" your phone no is {phone_no}\")\n",
    "print(f\" your type of recharge is {type_of_recharge}\")\n",
    "print(f\" your total bill is {total_bill}\")\n",
    "print(f\" your payment method is {payment_method}\")\n"
   ]
  }
 ],
 "metadata": {
  "kernelspec": {
   "display_name": "Python 3",
   "language": "python",
   "name": "python3"
  },
  "language_info": {
   "codemirror_mode": {
    "name": "ipython",
    "version": 3
   },
   "file_extension": ".py",
   "mimetype": "text/x-python",
   "name": "python",
   "nbconvert_exporter": "python",
   "pygments_lexer": "ipython3",
   "version": "3.8.8"
  }
 },
 "nbformat": 4,
 "nbformat_minor": 5
}
